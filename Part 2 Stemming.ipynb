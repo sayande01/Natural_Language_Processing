{
 "cells": [
  {
   "cell_type": "markdown",
   "id": "2d8534b0-78c0-4d1c-8bbb-f10ab97fd784",
   "metadata": {},
   "source": [
    "### Stemming |\n",
    "\n",
    "**Stemming** in NLP is the process of reducing words to their base or root form by removing prefixes or suffixes.\r\n",
    "\r\n",
    "- Example:  \r\n",
    "  - \"running\" → \"run\"  \r\n",
    "  - \"happiness\" → \"happi\"  \r\n",
    "  - \"studies\" → \"studi\"\r\n",
    "\r\n",
    "Stemming is used to group different forms of a word, simplifying the text for tasks like text classification or search indexing. However, it may result in non-standard or incomplete words."
   ]
  },
  {
   "cell_type": "code",
   "execution_count": 4,
   "id": "c218de3e-74c8-4e07-8d84-206399930186",
   "metadata": {},
   "outputs": [],
   "source": [
    "words = [\n",
    "    'running', 'jumps', 'easily', 'bigger', 'happiness', 'played',\n",
    "    'playing', 'flying', 'cars', 'leaves', 'studying', 'running',\n",
    "    'faster', 'joyful', 'believes', 'swimming', 'organization',\n",
    "    'relational', 'calculation', 'connections'\n",
    "]"
   ]
  },
  {
   "cell_type": "markdown",
   "id": "7cd2d444-46fc-4d2b-b6c9-9735c608c1d5",
   "metadata": {},
   "source": [
    "## Porter Stemmer"
   ]
  },
  {
   "cell_type": "code",
   "execution_count": 9,
   "id": "b30a132b-44c3-4097-a67a-13f0931477c8",
   "metadata": {},
   "outputs": [],
   "source": [
    "from nltk.stem import PorterStemmer"
   ]
  },
  {
   "cell_type": "code",
   "execution_count": 11,
   "id": "93805eca-bb3a-45df-b6b6-344020a1ea82",
   "metadata": {},
   "outputs": [],
   "source": [
    "ps = PorterStemmer()"
   ]
  },
  {
   "cell_type": "code",
   "execution_count": 23,
   "id": "96daa07e-667a-4516-842f-6dc81102c202",
   "metadata": {},
   "outputs": [
    {
     "name": "stdout",
     "output_type": "stream",
     "text": [
      "running ==>  run\n",
      "jumps ==>  jump\n",
      "easily ==>  easili\n",
      "bigger ==>  bigger\n",
      "happiness ==>  happi\n",
      "played ==>  play\n",
      "playing ==>  play\n",
      "flying ==>  fli\n",
      "cars ==>  car\n",
      "leaves ==>  leav\n",
      "studying ==>  studi\n",
      "running ==>  run\n",
      "faster ==>  faster\n",
      "joyful ==>  joy\n",
      "believes ==>  believ\n",
      "swimming ==>  swim\n",
      "organization ==>  organ\n",
      "relational ==>  relat\n",
      "calculation ==>  calcul\n",
      "connections ==>  connect\n"
     ]
    }
   ],
   "source": [
    "for word in words:\n",
    "    print(word + ' ==> ', ps.stem(word))"
   ]
  },
  {
   "cell_type": "markdown",
   "id": "ff1a9c69-d78d-4768-833d-3a5f6eff143f",
   "metadata": {},
   "source": [
    "## Regular expression stemmer"
   ]
  },
  {
   "cell_type": "code",
   "execution_count": 29,
   "id": "f91361f4-4fd9-468b-b8f4-2f996e1e8aaf",
   "metadata": {},
   "outputs": [
    {
     "name": "stdout",
     "output_type": "stream",
     "text": [
      "running ==>  runn\n",
      "jumps ==>  jump\n",
      "easily ==>  easi\n",
      "bigger ==>  bigger\n",
      "happiness ==>  happines\n",
      "played ==>  play\n",
      "playing ==>  play\n",
      "flying ==>  fly\n",
      "cars ==>  car\n",
      "leaves ==>  leav\n",
      "studying ==>  study\n",
      "running ==>  runn\n",
      "faster ==>  faster\n",
      "joyful ==>  joyful\n",
      "believes ==>  believ\n",
      "swimming ==>  swimm\n",
      "organization ==>  organization\n",
      "relational ==>  relational\n",
      "calculation ==>  calculation\n",
      "connections ==>  connection\n"
     ]
    }
   ],
   "source": [
    "from nltk.stem import RegexpStemmer\n",
    "# Define the suffix pattern to remove. For example, removing common endings like 'ing', 'ly', 'ed', 'es', 's'\n",
    "stemmer = RegexpStemmer('ing$|ly$|ed$|es$|s$')\n",
    "\n",
    "# Apply the stemmer to each word\n",
    "stemmed_words = [stemmer.stem(word) for word in words]\n",
    "\n",
    "# Print original words and their stemmed versions\n",
    "for word in words:\n",
    "    print(word + ' ==> ', stemmer.stem(word))"
   ]
  },
  {
   "cell_type": "markdown",
   "id": "d22aa026-220d-43e5-bcc3-f0a6a276d4ce",
   "metadata": {},
   "source": [
    "## Snowball Stemmer"
   ]
  },
  {
   "cell_type": "code",
   "execution_count": 32,
   "id": "0042ab8a-d282-40f9-9371-ba7678eef701",
   "metadata": {},
   "outputs": [
    {
     "name": "stdout",
     "output_type": "stream",
     "text": [
      "running ==> run\n",
      "jumps ==> jump\n",
      "easily ==> easili\n",
      "bigger ==> bigger\n",
      "happiness ==> happi\n",
      "played ==> play\n",
      "playing ==> play\n",
      "flying ==> fli\n",
      "cars ==> car\n",
      "leaves ==> leav\n",
      "studying ==> studi\n",
      "running ==> run\n",
      "faster ==> faster\n",
      "joyful ==> joy\n",
      "believes ==> believ\n",
      "swimming ==> swim\n",
      "organization ==> organ\n",
      "relational ==> relat\n",
      "calculation ==> calcul\n",
      "connections ==> connect\n"
     ]
    }
   ],
   "source": [
    "from nltk.stem import SnowballStemmer\n",
    "\n",
    "# Initialize the Snowball stemmer for English\n",
    "stemmer = SnowballStemmer(\"english\")\n",
    "\n",
    "# Print original words and their stemmed versions\n",
    "for word in words:\n",
    "    print(word + ' ==> ' + stemmer.stem(word))\n"
   ]
  },
  {
   "cell_type": "code",
   "execution_count": null,
   "id": "a854a96d-019f-4297-b8c1-f7f181501fec",
   "metadata": {},
   "outputs": [],
   "source": []
  },
  {
   "cell_type": "code",
   "execution_count": null,
   "id": "81ff0ab0-262e-49f3-8557-6267c2aeaf74",
   "metadata": {},
   "outputs": [],
   "source": []
  },
  {
   "cell_type": "code",
   "execution_count": null,
   "id": "675c28b4-9342-4257-8af9-3a3bc1afa00a",
   "metadata": {},
   "outputs": [],
   "source": []
  }
 ],
 "metadata": {
  "kernelspec": {
   "display_name": "Python 3 (ipykernel)",
   "language": "python",
   "name": "python3"
  },
  "language_info": {
   "codemirror_mode": {
    "name": "ipython",
    "version": 3
   },
   "file_extension": ".py",
   "mimetype": "text/x-python",
   "name": "python",
   "nbconvert_exporter": "python",
   "pygments_lexer": "ipython3",
   "version": "3.11.7"
  }
 },
 "nbformat": 4,
 "nbformat_minor": 5
}
