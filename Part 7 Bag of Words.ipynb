{
 "cells": [
  {
   "cell_type": "markdown",
   "id": "73650a5a-3c94-410d-b349-cea468f12e6c",
   "metadata": {},
   "source": [
    "Certainly! Let’s break down **Bag of Words (BoW)** in a way that captures the 20% most essential concepts, covering 80% of what you need to understand and implement it.\n",
    "\n",
    "### What is Bag of Words?\n",
    "Bag of Words is a method to represent text data numerically by focusing on **word frequencies** in the text. This method ignores grammar and word order, treating text as a \"bag\" of words.\n",
    "\n",
    "### Key Concepts to Implement BoW:\n",
    "1. **Vocabulary Creation**: Identify all unique words across your text data to create a vocabulary.\n",
    "2. **Word Counting**: For each document (sentence, paragraph, etc.), count how often each word from the vocabulary appears.\n",
    "3. **Resulting Matrix**: Represent each document as a vector where each entry is the count of a word from the vocabulary.\n",
    "\n",
    "### Steps to Implement BoW\n",
    "The easiest way to implement BoW in Python is to use `CountVectorizer` from the `sklearn.feature_extraction.text` library."
   ]
  },
  {
   "cell_type": "code",
   "execution_count": 27,
   "id": "96fe39a4-8054-4e89-b6d1-64dffd150cf7",
   "metadata": {},
   "outputs": [
    {
     "name": "stdout",
     "output_type": "stream",
     "text": [
      "Vocabulary: ['about' 'amazing' 'and' 'data' 'go' 'hand' 'in' 'is' 'learning' 'love'\n",
      " 'machine' 'science']\n",
      "BoW Matrix:\n",
      " [[0 1 0 1 0 0 0 1 0 0 0 1]\n",
      " [1 0 0 1 0 0 0 0 1 1 0 0]\n",
      " [0 0 1 1 1 2 1 0 1 0 1 1]]\n"
     ]
    }
   ],
   "source": [
    "from sklearn.feature_extraction.text import CountVectorizer\n",
    "\n",
    "# Example text data\n",
    "documents = [\n",
    "    \"Data science is amazing\",\n",
    "    \"I love learning about data\",\n",
    "    \"Data science and machine learning go hand in hand\"\n",
    "]\n",
    "\n",
    "# 1. Initialize CountVectorizer\n",
    "vectorizer = CountVectorizer()\n",
    "\n",
    "# 2. Fit and transform the text data to BoW\n",
    "bow_matrix = vectorizer.fit_transform(documents)\n",
    "\n",
    "# 3. Convert to array to see the matrix\n",
    "bow_array = bow_matrix.toarray()\n",
    "\n",
    "# 4. Get vocabulary (unique words)\n",
    "print(\"Vocabulary:\", vectorizer.get_feature_names_out())\n",
    "\n",
    "# 5. Display BoW matrix\n",
    "print(\"BoW Matrix:\\n\", bow_array)"
   ]
  },
  {
   "cell_type": "markdown",
   "id": "78669fe5-b169-47b7-8a64-1dbc6a0a4f0a",
   "metadata": {},
   "source": [
    "### Explanation of the Output:\n",
    "1. **Vocabulary**: List of unique words in all documents.\n",
    "2. **BoW Matrix**: Each row represents a document, and each column represents the count of a word from the vocabulary in that document.\n",
    "\n",
    "### When to Use BoW:\n",
    "Use Bag of Words when:\n",
    "- You need a quick, simple numerical representation of text.\n",
    "- You’re working on smaller datasets where word order isn’t crucial, like in text classification tasks.\n",
    "\n",
    "### Limitations:\n",
    "BoW doesn’t capture word order or meaning relationships between words. For more advanced applications, consider using **TF-IDF** or **Word Embeddings**.\n",
    "\n",
    "With just these steps, you have the core of BoW covered for implementation and understanding."
   ]
  },
  {
   "cell_type": "markdown",
   "id": "e72aaafa-847d-42b6-82ae-005f661fc910",
   "metadata": {},
   "source": [
    "### Prediction Model"
   ]
  },
  {
   "cell_type": "code",
   "execution_count": 2,
   "id": "84e5db94-8cbf-463c-bd6c-df11fd51bf92",
   "metadata": {},
   "outputs": [],
   "source": [
    "import pandas as pd"
   ]
  },
  {
   "cell_type": "code",
   "execution_count": 10,
   "id": "2bf9b895-c7ef-4cb5-83ba-7e521e26a59a",
   "metadata": {},
   "outputs": [],
   "source": [
    "messages=  pd.read_csv('SMSSpamCollection.txt',sep = '\\t',names=['label','message'], encoding='utf8')"
   ]
  },
  {
   "cell_type": "code",
   "execution_count": 12,
   "id": "538105b4-2190-4eef-960e-0d349119f773",
   "metadata": {},
   "outputs": [
    {
     "data": {
      "text/html": [
       "<div>\n",
       "<style scoped>\n",
       "    .dataframe tbody tr th:only-of-type {\n",
       "        vertical-align: middle;\n",
       "    }\n",
       "\n",
       "    .dataframe tbody tr th {\n",
       "        vertical-align: top;\n",
       "    }\n",
       "\n",
       "    .dataframe thead th {\n",
       "        text-align: right;\n",
       "    }\n",
       "</style>\n",
       "<table border=\"1\" class=\"dataframe\">\n",
       "  <thead>\n",
       "    <tr style=\"text-align: right;\">\n",
       "      <th></th>\n",
       "      <th>label</th>\n",
       "      <th>message</th>\n",
       "    </tr>\n",
       "  </thead>\n",
       "  <tbody>\n",
       "    <tr>\n",
       "      <th>0</th>\n",
       "      <td>ham</td>\n",
       "      <td>Go until jurong point, crazy.. Available only ...</td>\n",
       "    </tr>\n",
       "    <tr>\n",
       "      <th>1</th>\n",
       "      <td>ham</td>\n",
       "      <td>Ok lar... Joking wif u oni...</td>\n",
       "    </tr>\n",
       "    <tr>\n",
       "      <th>2</th>\n",
       "      <td>spam</td>\n",
       "      <td>Free entry in 2 a wkly comp to win FA Cup fina...</td>\n",
       "    </tr>\n",
       "    <tr>\n",
       "      <th>3</th>\n",
       "      <td>ham</td>\n",
       "      <td>U dun say so early hor... U c already then say...</td>\n",
       "    </tr>\n",
       "    <tr>\n",
       "      <th>4</th>\n",
       "      <td>ham</td>\n",
       "      <td>Nah I don't think he goes to usf, he lives aro...</td>\n",
       "    </tr>\n",
       "    <tr>\n",
       "      <th>...</th>\n",
       "      <td>...</td>\n",
       "      <td>...</td>\n",
       "    </tr>\n",
       "    <tr>\n",
       "      <th>5567</th>\n",
       "      <td>spam</td>\n",
       "      <td>This is the 2nd time we have tried 2 contact u...</td>\n",
       "    </tr>\n",
       "    <tr>\n",
       "      <th>5568</th>\n",
       "      <td>ham</td>\n",
       "      <td>Will ü b going to esplanade fr home?</td>\n",
       "    </tr>\n",
       "    <tr>\n",
       "      <th>5569</th>\n",
       "      <td>ham</td>\n",
       "      <td>Pity, * was in mood for that. So...any other s...</td>\n",
       "    </tr>\n",
       "    <tr>\n",
       "      <th>5570</th>\n",
       "      <td>ham</td>\n",
       "      <td>The guy did some bitching but I acted like i'd...</td>\n",
       "    </tr>\n",
       "    <tr>\n",
       "      <th>5571</th>\n",
       "      <td>ham</td>\n",
       "      <td>Rofl. Its true to its name</td>\n",
       "    </tr>\n",
       "  </tbody>\n",
       "</table>\n",
       "<p>5572 rows × 2 columns</p>\n",
       "</div>"
      ],
      "text/plain": [
       "     label                                            message\n",
       "0      ham  Go until jurong point, crazy.. Available only ...\n",
       "1      ham                      Ok lar... Joking wif u oni...\n",
       "2     spam  Free entry in 2 a wkly comp to win FA Cup fina...\n",
       "3      ham  U dun say so early hor... U c already then say...\n",
       "4      ham  Nah I don't think he goes to usf, he lives aro...\n",
       "...    ...                                                ...\n",
       "5567  spam  This is the 2nd time we have tried 2 contact u...\n",
       "5568   ham               Will ü b going to esplanade fr home?\n",
       "5569   ham  Pity, * was in mood for that. So...any other s...\n",
       "5570   ham  The guy did some bitching but I acted like i'd...\n",
       "5571   ham                         Rofl. Its true to its name\n",
       "\n",
       "[5572 rows x 2 columns]"
      ]
     },
     "execution_count": 12,
     "metadata": {},
     "output_type": "execute_result"
    }
   ],
   "source": [
    "messages"
   ]
  },
  {
   "cell_type": "code",
   "execution_count": 15,
   "id": "a1959322-3afa-477c-984e-463f58990106",
   "metadata": {},
   "outputs": [
    {
     "name": "stderr",
     "output_type": "stream",
     "text": [
      "[nltk_data] Downloading package stopwords to\n",
      "[nltk_data]     C:\\Users\\sayan\\AppData\\Roaming\\nltk_data...\n",
      "[nltk_data]   Package stopwords is already up-to-date!\n"
     ]
    }
   ],
   "source": [
    "#Data cleaning and preprocessing\n",
    "import re\n",
    "import nltk\n",
    "nltk.download('stopwords')\n",
    "\n",
    "from nltk.corpus import stopwords\n",
    "from nltk.stem.porter import PorterStemmer\n",
    "ps = PorterStemmer()\n",
    "corpus = []\n",
    "for i in range(0, len(messages)):\n",
    "    review = re.sub('[^a-zA-Z]', ' ', messages['message'][i])\n",
    "    review = review.lower()\n",
    "    review = review.split()\n",
    "    \n",
    "    review = [ps.stem(word) for word in review if not word in stopwords.words('english')]\n",
    "    review = ' '.join(review)\n",
    "    corpus.append(review)\n",
    "    \n",
    "    \n",
    "# Creating the Bag of Words model\n",
    "from sklearn.feature_extraction.text import CountVectorizer\n",
    "cv = CountVectorizer(max_features=2500)\n",
    "X = cv.fit_transform(corpus).toarray()\n",
    "\n",
    "y=pd.get_dummies(messages['label'])\n",
    "y=y.iloc[:,1].values\n",
    "\n",
    "\n",
    "# Train Test Split\n",
    "\n",
    "from sklearn.model_selection import train_test_split\n",
    "X_train, X_test, y_train, y_test = train_test_split(X, y, test_size = 0.20, random_state = 0)\n",
    "\n",
    "# Training model using Naive bayes classifier\n",
    "\n",
    "from sklearn.naive_bayes import MultinomialNB\n",
    "spam_detect_model = MultinomialNB().fit(X_train, y_train)\n",
    "\n",
    "y_pred=spam_detect_model.predict(X_test)\n"
   ]
  },
  {
   "cell_type": "code",
   "execution_count": null,
   "id": "66b8cdf2-ba4c-4512-9da8-17f5aabd954c",
   "metadata": {},
   "outputs": [],
   "source": []
  }
 ],
 "metadata": {
  "kernelspec": {
   "display_name": "Python 3 (ipykernel)",
   "language": "python",
   "name": "python3"
  },
  "language_info": {
   "codemirror_mode": {
    "name": "ipython",
    "version": 3
   },
   "file_extension": ".py",
   "mimetype": "text/x-python",
   "name": "python",
   "nbconvert_exporter": "python",
   "pygments_lexer": "ipython3",
   "version": "3.11.7"
  }
 },
 "nbformat": 4,
 "nbformat_minor": 5
}
