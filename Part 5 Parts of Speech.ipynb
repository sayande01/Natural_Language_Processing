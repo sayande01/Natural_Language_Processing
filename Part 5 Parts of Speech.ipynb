{
 "cells": [
  {
   "cell_type": "markdown",
   "id": "548e1058-27f0-4029-996c-25b75280f969",
   "metadata": {},
   "source": [
    "**Parts of Speech (POS) tagging** in Natural Language Processing (NLP) refers to the process of assigning a part of speech to each word in a sentence, such as noun, verb, adjective, etc. POS tagging helps in understanding the grammatical structure and meaning of a sentence. It is a crucial task for many NLP applications like machine translation, sentiment analysis, and information extraction.\n",
    "\n",
    "### Steps in POS Tagging:\n",
    "1. **Tokenization**: The first step is to break the sentence into individual words (tokens).\n",
    "2. **Tagging**: Each token is then tagged with a corresponding part of speech, such as noun (NN), verb (VB), adjective (JJ), etc."
   ]
  },
  {
   "cell_type": "code",
   "execution_count": 7,
   "id": "b368aed3-9279-4909-8e4c-61efbbd7da5e",
   "metadata": {},
   "outputs": [
    {
     "name": "stderr",
     "output_type": "stream",
     "text": [
      "[nltk_data] Downloading package averaged_perceptron_tagger_eng to\n",
      "[nltk_data]     C:\\Users\\sayan\\AppData\\Roaming\\nltk_data...\n",
      "[nltk_data]   Unzipping taggers\\averaged_perceptron_tagger_eng.zip.\n"
     ]
    },
    {
     "name": "stdout",
     "output_type": "stream",
     "text": [
      "[('The', 'DT'), ('quick', 'JJ'), ('brown', 'NN'), ('fox', 'NN'), ('jumps', 'VBZ'), ('over', 'IN'), ('the', 'DT'), ('lazy', 'JJ'), ('dog', 'NN'), ('.', '.')]\n"
     ]
    }
   ],
   "source": [
    "import nltk\n",
    "from nltk.tokenize import word_tokenize\n",
    "from nltk import pos_tag\n",
    "nltk.download('averaged_perceptron_tagger_eng')\n",
    "\n",
    "# Sample sentence\n",
    "sentence = \"The quick brown fox jumps over the lazy dog.\"\n",
    "\n",
    "# Tokenize the sentence into words\n",
    "words = word_tokenize(sentence)\n",
    "\n",
    "# Perform POS tagging\n",
    "tagged_words = pos_tag(words)\n",
    "\n",
    "# Display tagged words\n",
    "print(tagged_words)"
   ]
  },
  {
   "cell_type": "markdown",
   "id": "c0cff5c6-e676-47d6-a73d-8ef4378d626a",
   "metadata": {},
   "source": [
    "### Explanation of the Output:\n",
    "- **'DT'**: Determiner (e.g., \"the\")\n",
    "- **'JJ'**: Adjective (e.g., \"quick\", \"lazy\")\n",
    "- **'NN'**: Noun, singular (e.g., \"brown\", \"fox\", \"dog\")\n",
    "- **'VBZ'**: Verb, 3rd person singular present (e.g., \"jumps\")\n",
    "- **'IN'**: Preposition (e.g., \"over\")\n",
    "\n",
    "### Common POS Tags in NLTK:\n",
    "- **NN**: Noun, singular\n",
    "- **NNS**: Noun, plural\n",
    "- **VB**: Verb, base form\n",
    "- **VBZ**: Verb, 3rd person singular present\n",
    "- **JJ**: Adjective\n",
    "- **RB**: Adverb\n",
    "- **DT**: Determiner (e.g., \"the\", \"a\")at automatically tags words based on their context.\r\n"
   ]
  },
  {
   "cell_type": "markdown",
   "id": "07f7851c-8bae-4379-b410-5da6f25e385a",
   "metadata": {},
   "source": [
    "Example 2"
   ]
  },
  {
   "cell_type": "code",
   "execution_count": 18,
   "id": "67d9d35b-39a8-413f-87a2-99e310175bf9",
   "metadata": {},
   "outputs": [
    {
     "name": "stdout",
     "output_type": "stream",
     "text": [
      "[('Technology', 'NN'), ('has', 'VBZ'), ('always', 'RB'), ('been', 'VBN'), ('a', 'DT'), ('driving', 'VBG'), ('force', 'NN'), ('behind', 'IN'), ('human', 'JJ'), ('progress', 'NN'), ('.', '.'), ('From', 'IN'), ('the', 'DT'), ('invention', 'NN'), ('of', 'IN'), ('the', 'DT'), ('wheel', 'NN'), ('to', 'TO'), ('the', 'DT'), ('rise', 'NN'), ('of', 'IN'), ('the', 'DT'), ('internet', 'NN'), (',', ','), ('advancements', 'NNS'), ('in', 'IN'), ('technology', 'NN'), ('have', 'VBP'), ('shaped', 'VBN'), ('the', 'DT'), ('course', 'NN'), ('of', 'IN'), ('history', 'NN'), ('.', '.'), ('In', 'IN'), ('the', 'DT'), ('modern', 'JJ'), ('world', 'NN'), (',', ','), ('we', 'PRP'), ('are', 'VBP'), ('surrounded', 'VBN'), ('by', 'IN'), ('innovations', 'NNS'), ('that', 'WDT'), ('improve', 'VBP'), ('our', 'PRP$'), ('daily', 'JJ'), ('lives', 'NNS'), ('.', '.'), ('Smartphones', 'NNS'), (',', ','), ('artificial', 'JJ'), ('intelligence', 'NN'), (',', ','), ('and', 'CC'), ('cloud', 'NN'), ('computing', 'NN'), ('are', 'VBP'), ('just', 'RB'), ('a', 'DT'), ('few', 'JJ'), ('examples', 'NNS'), ('of', 'IN'), ('how', 'WRB'), ('technology', 'NN'), ('continues', 'VBZ'), ('to', 'TO'), ('transform', 'VB'), ('society', 'NN'), ('.', '.'), ('As', 'IN'), ('we', 'PRP'), ('look', 'VBP'), ('toward', 'IN'), ('the', 'DT'), ('future', 'NN'), (',', ','), ('it', 'PRP'), (\"'s\", 'VBZ'), ('clear', 'JJ'), ('that', 'IN'), ('technology', 'NN'), ('will', 'MD'), ('play', 'VB'), ('an', 'DT'), ('even', 'RB'), ('greater', 'JJR'), ('role', 'NN'), ('in', 'IN'), ('solving', 'VBG'), ('some', 'DT'), ('of', 'IN'), ('the', 'DT'), ('most', 'RBS'), ('pressing', 'JJ'), ('challenges', 'NNS'), ('humanity', 'NN'), ('faces', 'VBZ'), (',', ','), ('from', 'IN'), ('climate', 'NN'), ('change', 'NN'), ('to', 'TO'), ('healthcare', 'VB'), ('.', '.')]\n"
     ]
    }
   ],
   "source": [
    "# Sample speech\n",
    "speech = \"\"\"\n",
    "Technology has always been a driving force behind human progress.\n",
    "From the invention of the wheel to the rise of the internet, advancements in technology have shaped the course of history. \n",
    "In the modern world, we are surrounded by innovations that improve our daily lives. Smartphones, artificial intelligence, and \n",
    "cloud computing are just a few examples of how technology continues to transform society. As we look toward the future, it's \n",
    "clear that technology will play an even greater role in solving some of the most pressing challenges humanity faces, from climate change to healthcare.\n",
    "\"\"\"\n",
    "\n",
    "# Tokenize the speech into words\n",
    "words = word_tokenize(speech)\n",
    "\n",
    "# Perform POS tagging\n",
    "tagged_words = pos_tag(words)\n",
    "\n",
    "# Display tagged words\n",
    "print(tagged_words)\n"
   ]
  },
  {
   "cell_type": "code",
   "execution_count": null,
   "id": "7406b68c-9218-4741-b87e-e29f3af2a2cd",
   "metadata": {},
   "outputs": [],
   "source": []
  }
 ],
 "metadata": {
  "kernelspec": {
   "display_name": "Python 3 (ipykernel)",
   "language": "python",
   "name": "python3"
  },
  "language_info": {
   "codemirror_mode": {
    "name": "ipython",
    "version": 3
   },
   "file_extension": ".py",
   "mimetype": "text/x-python",
   "name": "python",
   "nbconvert_exporter": "python",
   "pygments_lexer": "ipython3",
   "version": "3.11.7"
  }
 },
 "nbformat": 4,
 "nbformat_minor": 5
}
