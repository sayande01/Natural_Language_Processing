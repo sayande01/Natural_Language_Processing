{
 "cells": [
  {
   "cell_type": "markdown",
   "id": "fc0bd3fb-0fc5-4dc5-b156-dae23a182f4c",
   "metadata": {},
   "source": [
    "**Named Entity Recognition (NER)** is a technique in NLP used to locate and classify key information in text into predefined categories such as **names of people, organizations, locations, dates,** and **quantities**. By identifying and categorizing these \"named entities,\" NER helps extract useful information from text data, which is essential for tasks like information retrieval, question answering, and text summarization.\r\n",
    "\r\n",
    "### Categories Commonly Detected in NER:\r\n",
    "- **Person**: Names of people (e.g., \"Elon Musk\")\r\n",
    "- **Organization**: Companies, agencies, institutions (e.g., \"Google\", \"United Nations\")\r\n",
    "- **Location**: Geographical locations (e.g., \"Paris\", \"Mount Everest\")\r\n",
    "- **Date/Time**: Specific dates or times (e.g., \"January 1, 2022\", \"10:00 AM\")\r\n",
    "- **Money/Percent/Quantity**: Financial values, percentages, or measurements (e.g., \"$1 million\", \"20%\", \"for more advanced entity recognition and custom entity training."
   ]
  },
  {
   "cell_type": "code",
   "execution_count": 4,
   "id": "03b12c96-d43e-4c13-b9cf-7653a572535d",
   "metadata": {},
   "outputs": [
    {
     "name": "stderr",
     "output_type": "stream",
     "text": [
      "[nltk_data] Downloading package maxent_ne_chunker_tab to\n",
      "[nltk_data]     C:\\Users\\sayan\\AppData\\Roaming\\nltk_data...\n",
      "[nltk_data]   Package maxent_ne_chunker_tab is already up-to-date!\n",
      "[nltk_data] Downloading package words to\n",
      "[nltk_data]     C:\\Users\\sayan\\AppData\\Roaming\\nltk_data...\n",
      "[nltk_data]   Package words is already up-to-date!\n"
     ]
    },
    {
     "data": {
      "text/plain": [
       "True"
      ]
     },
     "execution_count": 4,
     "metadata": {},
     "output_type": "execute_result"
    }
   ],
   "source": [
    "nltk.download('maxent_ne_chunker_tab')\n",
    "nltk.download('words')"
   ]
  },
  {
   "cell_type": "code",
   "execution_count": 8,
   "id": "6058194e-7d58-4dbd-b54b-597c8569c097",
   "metadata": {},
   "outputs": [
    {
     "name": "stdout",
     "output_type": "stream",
     "text": [
      "(S\n",
      "  (PERSON Apple/NNP)\n",
      "  (ORGANIZATION Inc./NNP)\n",
      "  was/VBD\n",
      "  founded/VBN\n",
      "  by/IN\n",
      "  (PERSON Steve/NNP Jobs/NNP)\n",
      "  in/IN\n",
      "  (GPE Cupertino/NNP)\n",
      "  ,/,\n",
      "  (GPE California/NNP)\n",
      "  ,/,\n",
      "  in/IN\n",
      "  1976/CD\n",
      "  ./.\n",
      "  In/IN\n",
      "  2021/CD\n",
      "  ,/,\n",
      "  the/DT\n",
      "  company/NN\n",
      "  was/VBD\n",
      "  valued/VBN\n",
      "  at/IN\n",
      "  over/IN\n",
      "  $/$\n",
      "  2/CD\n",
      "  trillion/CD\n",
      "  ./.)\n"
     ]
    }
   ],
   "source": [
    "import nltk\n",
    "from nltk import word_tokenize, pos_tag, ne_chunk\n",
    "\n",
    "# Sample text\n",
    "text = \"Apple Inc. was founded by Steve Jobs in Cupertino, California, in 1976. In 2021, the company was valued at over $2 trillion.\"\n",
    "\n",
    "# Tokenize and tag parts of speech\n",
    "words = word_tokenize(text)\n",
    "tagged_words = pos_tag(words)\n",
    "\n",
    "# Perform Named Entity Recognition\n",
    "named_entities = ne_chunk(tagged_words)\n",
    "\n",
    "# Display named entities\n",
    "print(named_entities)"
   ]
  },
  {
   "cell_type": "code",
   "execution_count": null,
   "id": "43e83f1f-1af3-4f4f-96e1-60baceef7b57",
   "metadata": {},
   "outputs": [],
   "source": []
  }
 ],
 "metadata": {
  "kernelspec": {
   "display_name": "Python 3 (ipykernel)",
   "language": "python",
   "name": "python3"
  },
  "language_info": {
   "codemirror_mode": {
    "name": "ipython",
    "version": 3
   },
   "file_extension": ".py",
   "mimetype": "text/x-python",
   "name": "python",
   "nbconvert_exporter": "python",
   "pygments_lexer": "ipython3",
   "version": "3.11.7"
  }
 },
 "nbformat": 4,
 "nbformat_minor": 5
}
