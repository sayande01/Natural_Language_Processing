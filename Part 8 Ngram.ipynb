{
 "cells": [
  {
   "cell_type": "markdown",
   "id": "c3f2586b-a52a-4af1-b59c-fde8428671b7",
   "metadata": {},
   "source": [
    "### N-grams in NLP\n",
    "\n",
    "**N-grams** are continuous sequences of `n` words from a given text, where `n` determines the length of each word sequence. They’re often used in Natural Language Processing to capture context and sequence information that single-word representations (like Bag of Words) miss.\n",
    "\n",
    "### Key Points:\n",
    "- **Purpose**: Capture patterns in text by grouping words together, allowing models to understand relationships and word sequences.\n",
    "- **Types**:\n",
    "  - **Unigrams**: Single words (e.g., `\"I\"`, `\"love\"`, `\"learning\"`)\n",
    "  - **Bigrams**: Pairs of two consecutive words (e.g., `\"I love\"`, `\"love learning\"`)\n",
    "  - **Trigrams**: Triplets of three consecutive words (e.g., `\"I love learning\"`)\n",
    "\n",
    "Using N-grams helps models understand word context better, such as distinguishing `\"New York\"` as a location rather than two unrelated words.\n"
   ]
  },
  {
   "cell_type": "code",
   "execution_count": 8,
   "id": "eb3d61f8-ecc3-4d2e-9b88-45aeef7bc2ce",
   "metadata": {},
   "outputs": [
    {
     "name": "stdout",
     "output_type": "stream",
     "text": [
      "N-gram Vocabulary: ['amazing' 'amazing and' 'and' 'and data' 'and fun' 'data' 'data science'\n",
      " 'fun' 'go' 'go hand' 'hand' 'hand in' 'in' 'in hand' 'is' 'is amazing'\n",
      " 'learning' 'learning and' 'learning data' 'love' 'love learning'\n",
      " 'machine' 'machine learning' 'science' 'science go' 'science is']\n",
      "N-gram Matrix:\n",
      " [[0 0 0 0 0 1 1 0 0 0 0 0 0 0 0 0 1 0 1 1 1 0 0 1 0 0]\n",
      " [1 1 1 0 1 1 1 1 0 0 0 0 0 0 1 1 0 0 0 0 0 0 0 1 0 1]\n",
      " [0 0 1 1 0 1 1 0 1 1 2 1 1 1 0 0 1 1 0 0 0 1 1 1 1 0]]\n"
     ]
    }
   ],
   "source": [
    "\n",
    "from sklearn.feature_extraction.text import CountVectorizer\n",
    "\n",
    "# Sample text data\n",
    "documents = [\n",
    "    \"I love learning data science\",\n",
    "    \"Data science is amazing and fun\",\n",
    "    \"Machine learning and data science go hand in hand\"\n",
    "]\n",
    "\n",
    "# Initialize CountVectorizer with n-grams\n",
    "# ngram_range=(1, 2) will include both unigrams and bigrams\n",
    "vectorizer = CountVectorizer(ngram_range=(1, 2))\n",
    "\n",
    "# Fit and transform the documents\n",
    "ngram_matrix = vectorizer.fit_transform(documents)\n",
    "\n",
    "# Convert to array and display results\n",
    "ngram_array = ngram_matrix.toarray()\n",
    "print(\"N-gram Vocabulary:\", vectorizer.get_feature_names_out())\n",
    "print(\"N-gram Matrix:\\n\", ngram_array)"
   ]
  },
  {
   "cell_type": "markdown",
   "id": "f5af8795-cbca-4687-81e2-2029b8c94c60",
   "metadata": {},
   "source": [
    "### Explanation\n",
    "1. **ngram_range=(1, 2)**: Includes both unigrams and bigrams, giving us context for individual words and two-word pairs.\n",
    "2. **Vocabulary**: Now includes single words and two-word combinations.\n",
    "3. **N-gram Matrix**: Each document is represented as a vector with counts for both individual words and word pairs.\n",
    "\n",
    "### When to Use N-grams\n",
    "- **Text Classification**: To capture simple word combinations like phrases.\n",
    "- **Language Modeling**: Predicting the next word based on previous ones.\n",
    "- **Sentiment Analysis**: Capturing phrases (e.g., \"not good\") rather than just individual words.\n",
    "\n",
    "By using N-grams, you’re able to enhance text representations with context, making them effective for capturing patterns in a variety of NLP tasks."
   ]
  },
  {
   "cell_type": "code",
   "execution_count": null,
   "id": "53c7f3ab-d097-4f7f-aa38-f729d63006ac",
   "metadata": {},
   "outputs": [],
   "source": []
  }
 ],
 "metadata": {
  "kernelspec": {
   "display_name": "Python 3 (ipykernel)",
   "language": "python",
   "name": "python3"
  },
  "language_info": {
   "codemirror_mode": {
    "name": "ipython",
    "version": 3
   },
   "file_extension": ".py",
   "mimetype": "text/x-python",
   "name": "python",
   "nbconvert_exporter": "python",
   "pygments_lexer": "ipython3",
   "version": "3.11.7"
  }
 },
 "nbformat": 4,
 "nbformat_minor": 5
}
