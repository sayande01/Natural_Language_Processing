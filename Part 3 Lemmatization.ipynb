{
 "cells": [
  {
   "cell_type": "markdown",
   "id": "c598ae10-f748-44fc-9e3a-c8f069b4dfa5",
   "metadata": {},
   "source": [
    "### Lemmatization\n",
    "**Lemmatization** in NLP is the process of reducing words to their **lemma** or base form, considering the word's meaning and context. Unlike stemming, which simply removes prefixes and suffixes, lemmatization uses vocabulary and part-of-speech (POS) information to return a valid word form.\r\n",
    "\r\n",
    "- Example:  \r\n",
    "  - \"running\" → \"run\" (verb)  \r\n",
    "  - \"better\" → \"good\" (adjective)  \r\n",
    "  - \"studies\" → \"study\" (noun)\r\n",
    "\r\n",
    "Lemmatization ensures the reduced form is a valid word, making it more contextually accurate than stemming. It is commonly used in tasks like text classification and information retrieval, where meaning is important."
   ]
  },
  {
   "cell_type": "code",
   "execution_count": 6,
   "id": "085ecddf-e693-4fd7-942c-84c0524cd54a",
   "metadata": {},
   "outputs": [
    {
     "name": "stderr",
     "output_type": "stream",
     "text": [
      "[nltk_data] Downloading package wordnet to\n",
      "[nltk_data]     C:\\Users\\sayan\\AppData\\Roaming\\nltk_data...\n",
      "[nltk_data] Downloading package omw-1.4 to\n",
      "[nltk_data]     C:\\Users\\sayan\\AppData\\Roaming\\nltk_data...\n",
      "[nltk_data] Downloading package punkt to\n",
      "[nltk_data]     C:\\Users\\sayan\\AppData\\Roaming\\nltk_data...\n",
      "[nltk_data]   Unzipping tokenizers\\punkt.zip.\n"
     ]
    },
    {
     "data": {
      "text/plain": [
       "True"
      ]
     },
     "execution_count": 6,
     "metadata": {},
     "output_type": "execute_result"
    }
   ],
   "source": [
    "import nltk\n",
    "nltk.download('wordnet')\n",
    "nltk.download('omw-1.4')\n",
    "nltk.download('punkt')"
   ]
  },
  {
   "cell_type": "code",
   "execution_count": 12,
   "id": "324b129f-62ca-4eee-a103-262f91103497",
   "metadata": {},
   "outputs": [
    {
     "name": "stdout",
     "output_type": "stream",
     "text": [
      "running ==> run\n",
      "jumps ==> jump\n",
      "easily ==> easily\n",
      "better ==> better\n",
      "happiness ==> happiness\n",
      "played ==> play\n",
      "playing ==> play\n",
      "flying ==> fly\n",
      "cars ==> cars\n",
      "leaves ==> leave\n",
      "studying ==> study\n",
      "faster ==> faster\n",
      "joyful ==> joyful\n",
      "believes ==> believe\n",
      "swimming ==> swim\n",
      "organization ==> organization\n",
      "relational ==> relational\n",
      "calculation ==> calculation\n",
      "connections ==> connections\n"
     ]
    }
   ],
   "source": [
    "import nltk\n",
    "from nltk.stem import WordNetLemmatizer\n",
    "\n",
    "# Initialize the lemmatizer\n",
    "lemmatizer = WordNetLemmatizer()\n",
    "\n",
    "# List of words\n",
    "words = [\n",
    "    'running', 'jumps', 'easily', 'better', 'happiness', 'played',\n",
    "    'playing', 'flying', 'cars', 'leaves', 'studying', 'faster', \n",
    "    'joyful', 'believes', 'swimming', 'organization', \n",
    "    'relational', 'calculation', 'connections'\n",
    "]\n",
    "\n",
    "# Lemmatize and print each word\n",
    "for word in words:\n",
    "    print(word + ' ==> ' + lemmatizer.lemmatize(word,pos = 'v')) #verb, By default its Noun"
   ]
  },
  {
   "cell_type": "code",
   "execution_count": null,
   "id": "d826c0e3-d0ad-4ca4-bf3f-ff547554c6b7",
   "metadata": {},
   "outputs": [],
   "source": []
  }
 ],
 "metadata": {
  "kernelspec": {
   "display_name": "Python 3 (ipykernel)",
   "language": "python",
   "name": "python3"
  },
  "language_info": {
   "codemirror_mode": {
    "name": "ipython",
    "version": 3
   },
   "file_extension": ".py",
   "mimetype": "text/x-python",
   "name": "python",
   "nbconvert_exporter": "python",
   "pygments_lexer": "ipython3",
   "version": "3.11.7"
  }
 },
 "nbformat": 4,
 "nbformat_minor": 5
}
